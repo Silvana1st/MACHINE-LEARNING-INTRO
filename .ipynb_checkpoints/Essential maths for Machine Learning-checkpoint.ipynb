{
 "cells": [
  {
   "cell_type": "markdown",
   "metadata": {},
   "source": [
    "<img src=\"./Topol/digital fellowships_math.png\" width=\"100%\" align=\"left\" />"
   ]
  },
  {
   "cell_type": "markdown",
   "metadata": {},
   "source": [
    "# Essential Maths for Machine Learning\n",
    "****"
   ]
  },
  {
   "cell_type": "markdown",
   "metadata": {},
   "source": [
    "<table style=\"float:right;\">\n",
    "    <tr>\n",
    "        <td>                      \n",
    "            <div style=\"text-align: right\"><a href=\"https://alandavies.netlify.com\" target=\"_blank\">Dr Alan Davies</a></div>\n",
    "            <div style=\"text-align: right\">Lecturer health data science</div>\n",
    "            <div style=\"text-align: right\">University of Manchester</div>\n",
    "         </td>\n",
    "         <td>\n",
    "             <img src=\"https://github.com/i3hsInnovation/resources/blob/efa61022d0b8893200dad308f6590e694291f8c7/images/alan.PNG?raw=true\" width=\"30%\" />\n",
    "         </td>\n",
    "     </tr>\n",
    "</table"
   ]
  },
  {
   "cell_type": "markdown",
   "metadata": {},
   "source": [
    "### About this notebook\n",
    "\n",
    "This notebook introduces some of the mathematical concepts that provide a useful pre-requisit for Machine Learning (ML). This is an introduction to some of the basic concepts only and assumes some familiarity with basic algebra and is not an extensive guide to all the required maths for ML as this is beyond its scope. \n",
    "\n",
    "The notebooks introduces topics such as: <code>linear algebra</code>, <code>vectors and matrices</code>, <code>probability theory</code> and <code>calculus</code> in the hope that you will know what you need to look into more to plug any gaps in your knowledge. It is aimed at <code>Beginner</code> level."
   ]
  },
  {
   "cell_type": "markdown",
   "metadata": {},
   "source": [
    "<div class=\"alert alert-block alert-warning\"><b>Learning Objectives:</b> \n",
    "    \n",
    "- Explain the underpinning mathematical concepts behind commonly used statistical and machine learning methods (e.g. probability theory, linear algebra)\n",
    "    \n",
    "- Investigate concepts such as vectors, matrices and probability, calculus and stochastic gradient descent. \n",
    "    \n",
    "</div> "
   ]
  },
  {
   "cell_type": "markdown",
   "metadata": {},
   "source": [
    "You don't need to be a maths wizard to run Machine Learning (ML) algorithms. Modern libraries in languages like Python and R will take care of this for you. However to truly understand ML and how the algorithms work, including when and when not to use them, an understanding of the fundamental maths used is essential. This will also become more apparent the further you go with ML. Ideally an individual applying ML will have knowledge of the underlying maths, be comfortable with coding in the language of choice and have enough domain knowledge (or access to such knowledge) to understand the implication of the results (and limitations) of such models."
   ]
  },
  {
   "cell_type": "markdown",
   "metadata": {},
   "source": [
    "<a id=\"top\"></a>\n",
    "\n",
    "<b>Table of contents</b><br/>\n",
    "\n",
    "1.0 [Representing Math Notation in Code](#repmatnotcod)\n",
    "\n",
    "2.0 [Python's math module](#pytmatmod)\n",
    "\n",
    "3.0 [Representing Functions](#repfunc)\n",
    "\n",
    "4.0 [Linear Algebra](#linalg)\n",
    "\n",
    "5.0 [Vectors and Matrices](#vecmat)\n",
    "\n",
    "6.0 [Application to Machine Learning](#appmaclea)\n",
    "\n",
    "7.0 [Probability Theory](#probthe)\n",
    "\n",
    "8.0 [Calculus](#cal)\n",
    "\n",
    "9.0 [Stochastic Gradient Descent](#stograddes)\n",
    "\n",
    "-------\n",
    "\n"
   ]
  },
  {
   "cell_type": "markdown",
   "metadata": {},
   "source": [
    "\n",
    "\n",
    "\n",
    "\n",
    "\n",
    "\n",
    "<a id=\"repmatnotcod\"></a>\n",
    "\n",
    "## Representing Math Notation in Code"
   ]
  },
  {
   "cell_type": "markdown",
   "metadata": {},
   "source": [
    "You may also be familiar with math notation such as sigma ($\\Sigma$) which represents summation and capital pi ($\\Pi$) used for product (multiplication). You may see summation represented thus:"
   ]
  },
  {
   "cell_type": "markdown",
   "metadata": {},
   "source": [
    "$$\n",
    "\\displaystyle\\sum_{i=0}^{n} x_i\n",
    "$$"
   ]
  },
  {
   "cell_type": "markdown",
   "metadata": {},
   "source": [
    "Here $n$ represents the number of times the summation is carried out and could be replaced with a set value like 10. The $i$ shows the starting value and the $x_i$ the thing that is being summed. Let's look at common example, the <code>arithmetic mean</code> also known as the average. This is where we add a series of numbers together and divide by the number of values."
   ]
  },
  {
   "cell_type": "markdown",
   "metadata": {},
   "source": [
    "$$\n",
    "A = \\frac{1}{n} \\displaystyle\\sum_{i=1}^{n} x_i = \\frac{x_1 + x_2 + \\text{...} + x_n}{n}\n",
    "$$"
   ]
  },
  {
   "cell_type": "markdown",
   "metadata": {},
   "source": [
    "For those less familiar with math notation, the part on the right of the equals sign probably makes more sense. Here you can see that we are summing each value $x_1$ all the way to $x_n$ where $n$ represents the number of values (e.g. if we were finding the mean of 5 numbers then n would be 5)."
   ]
  },
  {
   "cell_type": "markdown",
   "metadata": {},
   "source": [
    "So if we had the values <code>5, 3, 6, 3, 4</code>. We would add them together (21) and then divide by the number of values (5). So the answer would be <code>4.2</code>. This is all the sigma notation is showing starting at 1 and ending at $n$. We can do this code using something called a <code>loop</code>. Loops are blocks of code that are repeated a number of times or until some other condition is met. We can see a simple example below. "
   ]
  },
  {
   "cell_type": "code",
   "execution_count": 62,
   "metadata": {},
   "outputs": [
    {
     "name": "stdout",
     "output_type": "stream",
     "text": [
      "i = 0\n",
      "i = 1\n",
      "i = 2\n",
      "i = 3\n",
      "i = 4\n",
      "i = 5\n",
      "i = 6\n",
      "i = 7\n",
      "i = 8\n",
      "i = 9\n"
     ]
    }
   ],
   "source": [
    "for i in range(0,10):\n",
    "    print(\"i =\", i)"
   ]
  },
  {
   "cell_type": "markdown",
   "metadata": {},
   "source": [
    "Here all the code indented under the line starting with the word <code>for</code> is repeated. In this case from 0 to 10, which gives us the numbers 0-9."
   ]
  },
  {
   "cell_type": "markdown",
   "metadata": {},
   "source": [
    "The following example shows how we can use a loop to carry out an average calculation representing the math notation above."
   ]
  },
  {
   "cell_type": "code",
   "execution_count": 65,
   "metadata": {},
   "outputs": [
    {
     "name": "stdout",
     "output_type": "stream",
     "text": [
      "Average =  4.2\n"
     ]
    }
   ],
   "source": [
    "total = 0\n",
    "nums = [5, 3, 6, 3, 4]\n",
    "\n",
    "for n in range(0, len(nums)):\n",
    "    total = total + nums[n]\n",
    "    \n",
    "print(\"Average = \", total / len(nums))"
   ]
  },
  {
   "cell_type": "markdown",
   "metadata": {},
   "source": [
    "In this example we store the numbers in a list data structure as mentioned above. We can then loop over the list adding each value to the previous values (the summation $\\Sigma$). The end point, which is $n$ in the math notation and is the number of values (5) is here represented using the <code>len</code> function with gives us the length of the list (5). We could just write 5 here, but this is bad programming practice as if we add/remove other values to the list, we will have a bug and the code won't run if the value is not 5. Using the len function makes this robust to these errors. Once we have summed the values in the loop, outside of the loop we can divide this total by the amount of values (5) again using the len function."
   ]
  },
  {
   "cell_type": "markdown",
   "metadata": {},
   "source": [
    "As you get more familiar with using Python or any other specific programming language that you use to implement these concepts, you will become familiar with alternatives and shorthand ways of achieving the same thing, e.g."
   ]
  },
  {
   "cell_type": "code",
   "execution_count": 67,
   "metadata": {},
   "outputs": [
    {
     "name": "stdout",
     "output_type": "stream",
     "text": [
      "Average =  4.2\n"
     ]
    }
   ],
   "source": [
    "total = 0\n",
    "nums = [5, 3, 6, 3, 4]\n",
    "\n",
    "for n in nums:\n",
    "    total += n\n",
    "    \n",
    "print(\"Average = \", total / len(nums))"
   ]
  },
  {
   "cell_type": "markdown",
   "metadata": {
    "solution2": "hidden",
    "solution2_first": true
   },
   "source": [
    "<div class=\"alert alert-block alert-info\">\n",
    "<b>Task 1:</b>\n",
    "<br> \n",
    "    This is the formula for converting temperature in degrees Fahrenheit into degrees Celsius. \n",
    "$$T_c = \\frac{5}{9}(T_f - 32) $$\n",
    "    1. Create a variable called <code>f</code> and make it equal to <code>98.6</code> (e.g. <code>f = 98.6</code>).<br>\n",
    "    2. Try writing the formula as Python code<br>\n",
    "    3. Output the answer (98.6 degrees Fahrenheit should be 37 degrees Celsius).\n",
    "</div>"
   ]
  },
  {
   "cell_type": "code",
   "execution_count": 31,
   "metadata": {
    "solution2": "hidden"
   },
   "outputs": [],
   "source": [
    "f = 98.6"
   ]
  },
  {
   "cell_type": "code",
   "execution_count": 32,
   "metadata": {
    "solution2": "hidden"
   },
   "outputs": [],
   "source": [
    "temp_c = (f-32)*5/9"
   ]
  },
  {
   "cell_type": "code",
   "execution_count": 36,
   "metadata": {
    "solution2": "hidden"
   },
   "outputs": [
    {
     "name": "stdout",
     "output_type": "stream",
     "text": [
      "98.6 degrees F is 37.0 degrees C\n"
     ]
    }
   ],
   "source": [
    "print(f, \"degrees F is\", temp_c, \"degrees C\")"
   ]
  },
  {
   "cell_type": "code",
   "execution_count": null,
   "metadata": {},
   "outputs": [],
   "source": []
  },
  {
   "cell_type": "code",
   "execution_count": null,
   "metadata": {},
   "outputs": [],
   "source": []
  },
  {
   "cell_type": "code",
   "execution_count": null,
   "metadata": {},
   "outputs": [],
   "source": []
  },
  {
   "cell_type": "markdown",
   "metadata": {},
   "source": [
    "<a href=\"#top\">Back to top</a>\n",
    "\n",
    "-----------\n",
    "\n",
    "\n",
    "\n",
    "<a id=\"pytmatmod\"></a>\n",
    "\n",
    "## Python's Math Module"
   ]
  },
  {
   "cell_type": "markdown",
   "metadata": {},
   "source": [
    "Fortunately Python has a <code>math</code> module that can be used to carry out many common mathematical procedures. We can import the math module like so: "
   ]
  },
  {
   "cell_type": "code",
   "execution_count": 18,
   "metadata": {},
   "outputs": [],
   "source": [
    "import math"
   ]
  },
  {
   "cell_type": "markdown",
   "metadata": {},
   "source": [
    "We can then use the inbuilt functions. For example, let's say we want to find the square root of 9 (e.g. $\\sqrt{9}$). We could use the <code>sqrt</code> function like so:"
   ]
  },
  {
   "cell_type": "code",
   "execution_count": 19,
   "metadata": {},
   "outputs": [
    {
     "data": {
      "text/plain": [
       "3.0"
      ]
     },
     "execution_count": 19,
     "metadata": {},
     "output_type": "execute_result"
    }
   ],
   "source": [
    "math.sqrt(9)"
   ]
  },
  {
   "cell_type": "markdown",
   "metadata": {},
   "source": [
    "Some useful functions from the Python <code>math</code> module can be seen in the table <a href=\"https://www.w3schools.com/python/module_math.asp\" target=\"_blank\">here</a> with a short description and example of their use/output."
   ]
  },
  {
   "cell_type": "markdown",
   "metadata": {},
   "source": [
    "There are also other useful modules available for a variety of related tasks. For example the code above that finds the average of the numbers <code>[5, 3, 6, 3, 4]</code>. Here we could import the <code>statistics</code> module and use the <code>mean</code> function. "
   ]
  },
  {
   "cell_type": "code",
   "execution_count": 28,
   "metadata": {},
   "outputs": [
    {
     "name": "stdout",
     "output_type": "stream",
     "text": [
      "Average =  4.2\n"
     ]
    }
   ],
   "source": [
    "import statistics\n",
    "nums = [5, 3, 6, 3, 4]\n",
    "print(\"Average = \", statistics.mean(nums))"
   ]
  },
  {
   "cell_type": "markdown",
   "metadata": {},
   "source": [
    "Making use of these preexisting functions is very helpful and saves us a lot of time recreating commonly used functionality. It's always worth checking to see if a module already exists for your needs before you think about wasting time trying to code something that may already exist."
   ]
  },
  {
   "cell_type": "markdown",
   "metadata": {
    "solution2": "hidden",
    "solution2_first": true
   },
   "source": [
    "<div class=\"alert alert-block alert-info\">\n",
    "<b>Task 2:</b>\n",
    "<br> \n",
    "    Using the math functions in the link above (<a href=\"https://www.w3schools.com/python/module_math.asp\" target=\"_blank\">link</a>) for reference, output the natural logarithm for the number <code>2</code>.\n",
    "</div>"
   ]
  },
  {
   "cell_type": "code",
   "execution_count": 30,
   "metadata": {
    "solution2": "hidden"
   },
   "outputs": [
    {
     "data": {
      "text/plain": [
       "0.6931471805599453"
      ]
     },
     "execution_count": 30,
     "metadata": {},
     "output_type": "execute_result"
    }
   ],
   "source": [
    "math.log(2)"
   ]
  },
  {
   "cell_type": "code",
   "execution_count": null,
   "metadata": {},
   "outputs": [],
   "source": []
  },
  {
   "cell_type": "markdown",
   "metadata": {},
   "source": [
    "We also have to be aware of the order of operations. This works by computing the string of values from left to right. If there are powers brackets etc. we can follow the order of brackets, order, products and sums. "
   ]
  },
  {
   "cell_type": "code",
   "execution_count": 15,
   "metadata": {},
   "outputs": [
    {
     "data": {
      "text/plain": [
       "3"
      ]
     },
     "execution_count": 15,
     "metadata": {},
     "output_type": "execute_result"
    }
   ],
   "source": [
    "1 - 2 + 3 - 4 + 5"
   ]
  },
  {
   "cell_type": "code",
   "execution_count": 16,
   "metadata": {},
   "outputs": [
    {
     "data": {
      "text/plain": [
       "-114"
      ]
     },
     "execution_count": 16,
     "metadata": {},
     "output_type": "execute_result"
    }
   ],
   "source": [
    "2 * (4 + 3) -2 * 8**2"
   ]
  },
  {
   "cell_type": "markdown",
   "metadata": {},
   "source": [
    "<div class=\"alert alert-success\">\n",
    "<strong>Note:</strong>\n",
    "    What about acronyms like <code>BODMAS</code> (Brackets, Orders (powers/indices or roots), Division, Multiplication, Addition, Subtraction)? These don't always hold up in all situations. If you are interested in learning more about this, have a look at this short blog post <a href=\"https://www.teachwire.net/news/why-its-time-for-maths-teachers-to-bin-bodmas\" target=\"_blank\">Why it's time for maths teachers to bin BODMAS</a>.\n",
    "</div>"
   ]
  },
  {
   "cell_type": "markdown",
   "metadata": {},
   "source": [
    "<a href=\"#top\">Back to top</a>\n",
    "\n",
    "-----------\n",
    "\n",
    "\n",
    "<a id=\"repfunc\"></a>\n",
    "\n",
    "## Representing Functions"
   ]
  },
  {
   "cell_type": "markdown",
   "metadata": {},
   "source": [
    "In math, we can define functions that take some input, carry out some operation on that input and return some output. For example a simple function that doubles the value of $x$. In math notation we could represent this like so:"
   ]
  },
  {
   "cell_type": "markdown",
   "metadata": {},
   "source": [
    "$$f(x) = 2x$$"
   ]
  },
  {
   "cell_type": "markdown",
   "metadata": {},
   "source": [
    "We could pass in some input like so, expecting the output shown in the table below:"
   ]
  },
  {
   "cell_type": "markdown",
   "metadata": {},
   "source": [
    "<style type=\"text/css\">\n",
    ".tg  {border-collapse:collapse;border-spacing:0;}\n",
    ".tg td{font-family:Arial, sans-serif;font-size:14px;padding:10px 5px;border-style:solid;border-width:1px;overflow:hidden;word-break:normal;border-color:black;}\n",
    ".tg th{font-family:Arial, sans-serif;font-size:14px;font-weight:normal;padding:10px 5px;border-style:solid;border-width:1px;overflow:hidden;word-break:normal;border-color:black;}\n",
    ".tg .tg-kiyi{font-weight:bold;border-color:inherit;text-align:left}\n",
    ".tg .tg-fymr{font-weight:bold;border-color:inherit;text-align:left;vertical-align:top}\n",
    ".tg .tg-xldj{border-color:inherit;text-align:left}\n",
    ".tg .tg-0pky{border-color:inherit;text-align:left;vertical-align:top}\n",
    "</style>\n",
    "<table class=\"tg\">\n",
    "  <tr>\n",
    "    <th class=\"tg-kiyi\">Input</th>\n",
    "    <th class=\"tg-kiyi\">Function (x2)</th>\n",
    "    <th class=\"tg-kiyi\">Output</th>    \n",
    "  </tr>\n",
    "  <tr>\n",
    "    <td class=\"tg-0pky\">4</td>\n",
    "    <td class=\"tg-0pky\">4 x 2</td>\n",
    "    <td class=\"tg-0pky\">8</td>\n",
    "  </tr>\n",
    "  <tr>\n",
    "    <td class=\"tg-0pky\">8</td>\n",
    "    <td class=\"tg-0pky\">8 x 2</td>\n",
    "    <td class=\"tg-0pky\">16</td>\n",
    "  </tr>\n",
    "  <tr>\n",
    "    <td class=\"tg-0pky\">2</td>\n",
    "    <td class=\"tg-0pky\">2 x 2</td>\n",
    "    <td class=\"tg-0pky\">4</td>\n",
    "  </tr>\n",
    "  <tr>\n",
    "    <td class=\"tg-0pky\">5</td>\n",
    "    <td class=\"tg-0pky\">5 x 2</td>\n",
    "    <td class=\"tg-0pky\">10</td>\n",
    "  </tr>\n",
    "</table>"
   ]
  },
  {
   "cell_type": "markdown",
   "metadata": {},
   "source": [
    "We can define our own functions using Python with the <code>def</code> keyword. We can follow this by the name of our function (e.g. <code>f</code>) and then any input the function takes. We end the line with a colon <code>:</code>. We then indent all the code after the colon to tell Python that this code belongs to the function we have created. We then <code>return</code> the value of the input <code>x</code> multiplied by <code>2</code>."
   ]
  },
  {
   "cell_type": "code",
   "execution_count": 38,
   "metadata": {},
   "outputs": [],
   "source": [
    "def f(x):\n",
    "    return x*2"
   ]
  },
  {
   "cell_type": "markdown",
   "metadata": {},
   "source": [
    "The function wont run until we call it. To use the function we call it with its name (<code>f</code>) passing in an input. Let's try it with the first value of out table <code>4</code>."
   ]
  },
  {
   "cell_type": "code",
   "execution_count": 39,
   "metadata": {},
   "outputs": [
    {
     "data": {
      "text/plain": [
       "8"
      ]
     },
     "execution_count": 39,
     "metadata": {},
     "output_type": "execute_result"
    }
   ],
   "source": [
    "f(4)"
   ]
  },
  {
   "cell_type": "markdown",
   "metadata": {},
   "source": [
    "This produces the expected output <code>8</code>. In Python we can use longer and more meaningful function names than those used in math notation. For example we could have named the function <code>double_number</code> instead of <code>f</code> which helps us to better understand what its purpose is. "
   ]
  },
  {
   "cell_type": "markdown",
   "metadata": {
    "solution2": "hidden",
    "solution2_first": true
   },
   "source": [
    "<div class=\"alert alert-block alert-info\">\n",
    "<b>Task 3:</b>\n",
    "<br> \n",
    "   1. Try creating the following function in Python: $v(x) = x^2 + 1$.<br>\n",
    "   2. Test this with the following values: 2, 3, 4 and 5.<br>\n",
    "    <strong>HINT:</strong> You can use the <code>print</code> to display the output e.g. <code>print(v(2))</code> and so on. If you don't do this, it will just output the last value.\n",
    "</div>"
   ]
  },
  {
   "cell_type": "code",
   "execution_count": 43,
   "metadata": {
    "solution2": "hidden"
   },
   "outputs": [],
   "source": [
    "def v(x):\n",
    "    return x**2 + 1"
   ]
  },
  {
   "cell_type": "code",
   "execution_count": 44,
   "metadata": {
    "solution2": "hidden"
   },
   "outputs": [
    {
     "name": "stdout",
     "output_type": "stream",
     "text": [
      "5\n",
      "10\n",
      "17\n",
      "26\n"
     ]
    }
   ],
   "source": [
    "print(v(2))\n",
    "print(v(3))\n",
    "print(v(4))\n",
    "print(v(5))"
   ]
  },
  {
   "cell_type": "code",
   "execution_count": null,
   "metadata": {},
   "outputs": [],
   "source": []
  },
  {
   "cell_type": "code",
   "execution_count": null,
   "metadata": {},
   "outputs": [],
   "source": []
  },
  {
   "cell_type": "markdown",
   "metadata": {},
   "source": [
    "<a href=\"#top\">Back to top</a>\n",
    "\n",
    "-----------\n",
    "\n",
    "\n",
    "\n",
    "\n",
    "<a id=\"linalg\"></a>\n",
    "## Linear Algebra"
   ]
  },
  {
   "cell_type": "markdown",
   "metadata": {},
   "source": [
    "Linear algebra is often encountered in various Machine Learning methods. It is used to present complex problems that can be simplified into a series of simpler linear equations. Linear refers to <code>lines</code> and so won't include things like square roots or powers. The equation for a straight line is:  "
   ]
  },
  {
   "cell_type": "markdown",
   "metadata": {},
   "source": [
    "$$ y = mx + c$$"
   ]
  },
  {
   "cell_type": "markdown",
   "metadata": {},
   "source": [
    "Here, the variable <code>y</code> is the <code>dependent variable</code>, <code>x</code> is the independent variable and <code>c</code> is the <code>intercept</code>. This is the point where the line crosses the y-axis. The variable <code>m</code> represents the steepness of the line, known as the <code>gradient</code>. For example, 0 would form a straight line on the x-axis. The image below shows an example of the changing the values of the variables <code>c</code> and <code>m</code>. The gradient is determined by the $\\frac{\\text{change in y}}{\\text{change in x}}$."
   ]
  },
  {
   "cell_type": "markdown",
   "metadata": {},
   "source": [
    "The image below (left) shows the formula for a straight line plotted on a graph. The <code>x-axis</code> is the horizontal line and the <code>y-axis</code> is the vertical line. The images in the middle and right show lines with different values for <code>c</code> and <code>m</code>."
   ]
  },
  {
   "cell_type": "markdown",
   "metadata": {},
   "source": [
    "<img src=\"./Topol/g1.png\" align=\"left\" />"
   ]
  },
  {
   "cell_type": "markdown",
   "metadata": {},
   "source": [
    "<i>Image from Davies and Mueller, (2020)</i>"
   ]
  },
  {
   "cell_type": "markdown",
   "metadata": {},
   "source": [
    "<div class=\"alert alert-success\">\n",
    "<strong>Note:</strong>\n",
    "    A <code>dependent variable</code> (DV) is the one that we want to measure/test in an experiment and is called so because it is dependent on the <code>independent variable(s)</code> (IV). The IV is the variable that the experimenter manipulates in order to see the effect on the dependent variable. For example we could measure the mass of ice cream (DV) then manipulate the temperature (IV) to determine its effect on the mass of ice cream. \n",
    "</div>"
   ]
  },
  {
   "cell_type": "markdown",
   "metadata": {},
   "source": [
    "We can draw these sorts of graph using modern programming languages and plotting libraries. Here is an example using Python to recreate the plot in the middle image above ($y = 1x + 5$)."
   ]
  },
  {
   "cell_type": "code",
   "execution_count": 3,
   "metadata": {},
   "outputs": [
    {
     "data": {
      "image/png": "[encoded data removed]",
      "text/plain": [
       "<Figure size 432x288 with 1 Axes>"
      ]
     },
     "metadata": {
      "needs_background": "light"
     },
     "output_type": "display_data"
    }
   ],
   "source": [
    "import numpy as np\n",
    "import matplotlib.pyplot as plt\n",
    "\n",
    "fig = plt.figure()\n",
    "ax = fig.add_subplot(1, 1, 1)\n",
    "ax.spines['left'].set_position('center')\n",
    "ax.spines['bottom'].set_position('center')\n",
    "ax.spines['right'].set_color('none')\n",
    "ax.spines['top'].set_color('none')\n",
    "ax.xaxis.set_ticks_position('bottom')\n",
    "ax.yaxis.set_ticks_position('left')\n",
    "\n",
    "x = np.linspace(-5,5,100)\n",
    "plt.plot(x, 1*x+5, '-r', label='y=1x+5')\n",
    "plt.legend(loc='upper right')\n",
    "plt.plot()\n",
    "plt.axis('equal')\n",
    "plt.show()"
   ]
  },
  {
   "cell_type": "markdown",
   "metadata": {
    "solution2": "hidden",
    "solution2_first": true
   },
   "source": [
    "<div class=\"alert alert-block alert-info\">\n",
    "<b>Task 4:</b>\n",
    "<br> \n",
    "    Change the code in the cell below to plot the line in the image above on the right $y = 4x + 0$<br>\n",
    "    <strong>HINT:</strong> You only need to make changes to this line: <code>plt.plot(x, 1*x+5, '-r', label='y=1x+5')</code><br>\n",
    "</div>"
   ]
  },
  {
   "cell_type": "code",
   "execution_count": 5,
   "metadata": {
    "solution2": "hidden"
   },
   "outputs": [
    {
     "data": {
      "image/png": "[encoded data removed]",
      "text/plain": [
       "<Figure size 432x288 with 1 Axes>"
      ]
     },
     "metadata": {
      "needs_background": "light"
     },
     "output_type": "display_data"
    }
   ],
   "source": [
    "fig = plt.figure()\n",
    "ax = fig.add_subplot(1, 1, 1)\n",
    "ax.spines['left'].set_position('center')\n",
    "ax.spines['bottom'].set_position('center')\n",
    "ax.spines['right'].set_color('none')\n",
    "ax.spines['top'].set_color('none')\n",
    "ax.xaxis.set_ticks_position('bottom')\n",
    "ax.yaxis.set_ticks_position('left')\n",
    "\n",
    "x = np.linspace(-5,5,100)\n",
    "plt.plot(x, 4*x+0, '-r', label='y=4x+0')\n",
    "plt.legend(loc='upper right')\n",
    "plt.plot()\n",
    "plt.axis('equal')\n",
    "plt.show()"
   ]
  },
  {
   "cell_type": "code",
   "execution_count": null,
   "metadata": {},
   "outputs": [],
   "source": [
    "fig = plt.figure()\n",
    "ax = fig.add_subplot(1, 1, 1)\n",
    "ax.spines['left'].set_position('center')\n",
    "ax.spines['bottom'].set_position('center')\n",
    "ax.spines['right'].set_color('none')\n",
    "ax.spines['top'].set_color('none')\n",
    "ax.xaxis.set_ticks_position('bottom')\n",
    "ax.yaxis.set_ticks_position('left')\n",
    "\n",
    "x = np.linspace(-5,5,100)\n",
    "plt.plot(x, 1*x+5, '-r', label='y=1x+5')\n",
    "plt.legend(loc='upper right')\n",
    "plt.plot()\n",
    "plt.axis('equal')\n",
    "plt.show()"
   ]
  },
  {
   "cell_type": "markdown",
   "metadata": {},
   "source": [
    "As mentioned previously, complex problems can be readily represented as a series of linear equations that are easily and rapidly computable. We can use systems of linear equations (more than 2 equations) together. One way of solving these is to use <code>matrices</code>."
   ]
  },
  {
   "cell_type": "markdown",
   "metadata": {},
   "source": [
    "\n",
    "\n",
    "<a href=\"#top\">Back to top</a>\n",
    "\n",
    "-----------\n",
    "\n",
    "\n",
    "<a id=\"vecmat\"></a>\n",
    "\n",
    "## Vectors and Matrices"
   ]
  },
  {
   "cell_type": "markdown",
   "metadata": {},
   "source": [
    "In machine learning, certain mathematical concepts like vectors and matrices are presented using math notation. These can include <code>scalar</code> (single values), <code>vectors</code>, <code>matrices</code> and <code>tensors</code>."
   ]
  },
  {
   "cell_type": "markdown",
   "metadata": {},
   "source": [
    "$$\n",
    "1, \n",
    "\\begin{bmatrix} 1 \\\\[0.3em] 2 \\end{bmatrix},  \n",
    "\\begin{bmatrix} 1 & 2 \\\\[0.3em] 3 & 4 \\end{bmatrix},  \n",
    "\\begin{bmatrix} \\begin{bmatrix} 1 & 2 \\end{bmatrix} & \\begin{bmatrix} 3 & 4 \\end{bmatrix} \\\\[0.3em] \\begin{bmatrix} 5 & 6 \\end{bmatrix} & \\begin{bmatrix} 7 & 8 \\end{bmatrix} \\\\[0.3em] \n",
    "\\end{bmatrix}  \n",
    "$$"
   ]
  },
  {
   "cell_type": "markdown",
   "metadata": {},
   "source": [
    "A <code>scalar</code> is a single value. This belongs to a set of values and in mathematical notation is often expressed using <code>set</code> notation. For example $x \\in \\mathbb{Z}$. The character that looks like an ($\\in$) shows that a value is an element of a set (is in a set), the $\\mathbb{Z}$ represents <code>integer</code> (whole number) values. There are others, such as $\\mathbb{R}$ that represent <code>real</code> numbers (continuous quantity)."
   ]
  },
  {
   "cell_type": "markdown",
   "metadata": {},
   "source": [
    "A <code>vector</code> (discussed in more detail below) is an ordered <code>array</code> of values which exist in <code>vector spaces</code>. With notation this is often represented with numbers in columns in either round or square brackets. "
   ]
  },
  {
   "cell_type": "markdown",
   "metadata": {},
   "source": [
    "$$\n",
    "x = \\begin{bmatrix} 1 \\\\ 2 \\\\ 5 \\\\ \\end{bmatrix}, v = \\begin{pmatrix} 1 \\\\ 2 \\\\ 5 \\\\ \\end{pmatrix}\n",
    "$$"
   ]
  },
  {
   "cell_type": "markdown",
   "metadata": {},
   "source": [
    "The individual values inside a vector (scalar elements) can be identified with a subscript. For example."
   ]
  },
  {
   "cell_type": "markdown",
   "metadata": {},
   "source": [
    "$$\n",
    "x = \\begin{bmatrix} x_1 \\\\ x_2 \\\\ x_3 \\\\ \\vdots \\\\ x_n \\\\ \\end{bmatrix}\n",
    "$$"
   ]
  },
  {
   "cell_type": "markdown",
   "metadata": {},
   "source": [
    "A <code>matrix</code> also explained in more detail below are rectangular or square arrays. These hold values in rows and columns and like vectors can be displayed with square or round brackets. Elements can be accessed with 2 subscripts representing the position of the value in the matrix. "
   ]
  },
  {
   "cell_type": "markdown",
   "metadata": {},
   "source": [
    "<code>Tensors</code> can contain scalar, vector and matrix values. They are often used for <code>deep learning</code> and are not covered in this introduction. They \\[tensors\\] can be seen as a <code>multi-dimensional</code> array structure."
   ]
  },
  {
   "cell_type": "markdown",
   "metadata": {},
   "source": [
    "There are several ways we can represent these mathematical constructs in Python. We can represent vectors and matrices using a list data structure, or a list of lists for a matrix."
   ]
  },
  {
   "cell_type": "markdown",
   "metadata": {},
   "source": [
    "### Vectors"
   ]
  },
  {
   "cell_type": "code",
   "execution_count": 36,
   "metadata": {},
   "outputs": [],
   "source": [
    "v = [1, 4, 5, 6]"
   ]
  },
  {
   "cell_type": "code",
   "execution_count": 37,
   "metadata": {},
   "outputs": [],
   "source": [
    "M = [[1,2,3],[4,2,4],[5,2,5]]"
   ]
  },
  {
   "cell_type": "code",
   "execution_count": 38,
   "metadata": {},
   "outputs": [
    {
     "name": "stdout",
     "output_type": "stream",
     "text": [
      "[1, 4, 5, 6]\n"
     ]
    }
   ],
   "source": [
    "print(v)"
   ]
  },
  {
   "cell_type": "code",
   "execution_count": 39,
   "metadata": {},
   "outputs": [
    {
     "name": "stdout",
     "output_type": "stream",
     "text": [
      "[[1, 2, 3], [4, 2, 4], [5, 2, 5]]\n"
     ]
    }
   ],
   "source": [
    "print(M)"
   ]
  },
  {
   "cell_type": "markdown",
   "metadata": {},
   "source": [
    "We can access specific values in the vector or matrix using a index (which starts from 0 in Python). So if I want to access the value 5 in the vector <code>v</code>, starting at <code>0</code>, this is at index <code>2</code>."
   ]
  },
  {
   "cell_type": "code",
   "execution_count": 40,
   "metadata": {},
   "outputs": [
    {
     "name": "stdout",
     "output_type": "stream",
     "text": [
      "5\n"
     ]
    }
   ],
   "source": [
    "print(v[2])"
   ]
  },
  {
   "cell_type": "markdown",
   "metadata": {},
   "source": [
    "For a matrix we can use 2 sets of brackets. For example to output the number 2 in the second row. First select the inner list. So 3 lists starting at 0. This means the second list is at index <code>1</code>. The value 2 is also at index <code>1</code> in this list."
   ]
  },
  {
   "cell_type": "code",
   "execution_count": 41,
   "metadata": {},
   "outputs": [
    {
     "name": "stdout",
     "output_type": "stream",
     "text": [
      "2\n"
     ]
    }
   ],
   "source": [
    "print(M[1][1])"
   ]
  },
  {
   "cell_type": "markdown",
   "metadata": {},
   "source": [
    "The issue with this is that these mimic vectors and matrices, but they don't really act like them in a mathematical sense. For example, what if we wanted to multiply each value of our vector by 2. Could we just do this:"
   ]
  },
  {
   "cell_type": "code",
   "execution_count": 42,
   "metadata": {},
   "outputs": [
    {
     "data": {
      "text/plain": [
       "[1, 4, 5, 6, 1, 4, 5, 6]"
      ]
     },
     "execution_count": 42,
     "metadata": {},
     "output_type": "execute_result"
    }
   ],
   "source": [
    "v * 2"
   ]
  },
  {
   "cell_type": "markdown",
   "metadata": {},
   "source": [
    "This has just duplicated each value, rather than multiplying by 2. Python has a useful package for creating vectors and matrices called <code>numpy</code>. Let's use it to create a simple vector and then multiply each value by 2."
   ]
  },
  {
   "cell_type": "code",
   "execution_count": 43,
   "metadata": {},
   "outputs": [],
   "source": [
    "from numpy import array"
   ]
  },
  {
   "cell_type": "markdown",
   "metadata": {},
   "source": [
    "Fisrt we import the <code>array</code> function from the </code>numpy</code> library."
   ]
  },
  {
   "cell_type": "code",
   "execution_count": 44,
   "metadata": {},
   "outputs": [],
   "source": [
    "v = array([1, 4, 5, 6])"
   ]
  },
  {
   "cell_type": "code",
   "execution_count": 45,
   "metadata": {},
   "outputs": [
    {
     "name": "stdout",
     "output_type": "stream",
     "text": [
      "[1 4 5 6]\n"
     ]
    }
   ],
   "source": [
    "print(v)"
   ]
  },
  {
   "cell_type": "markdown",
   "metadata": {},
   "source": [
    "Next we create the vector. Note that the we use the same list syntax but inside the <code>array()</code> function. When we print it, it looks similar but doesn't have commas separating each value. "
   ]
  },
  {
   "cell_type": "code",
   "execution_count": 46,
   "metadata": {},
   "outputs": [
    {
     "name": "stdout",
     "output_type": "stream",
     "text": [
      "[ 2  8 10 12]\n"
     ]
    }
   ],
   "source": [
    "print(v * 2)"
   ]
  },
  {
   "cell_type": "markdown",
   "metadata": {},
   "source": [
    "Now we can multiple each value by 2 (or do other mathematical operations on the entire vector)."
   ]
  },
  {
   "cell_type": "markdown",
   "metadata": {},
   "source": [
    "We can still access the items in the same way as we did using the list though:"
   ]
  },
  {
   "cell_type": "code",
   "execution_count": 47,
   "metadata": {},
   "outputs": [
    {
     "name": "stdout",
     "output_type": "stream",
     "text": [
      "5\n"
     ]
    }
   ],
   "source": [
    "print(v[2])"
   ]
  },
  {
   "cell_type": "markdown",
   "metadata": {
    "solution2": "hidden",
    "solution2_first": true
   },
   "source": [
    "<div class=\"alert alert-block alert-info\">\n",
    "<b>Task 5:</b>\n",
    "<br> \n",
    "    Why is the output above (<code>print(v[2])</code>) <code>5</code> and not <code>10</code>?<br>\n",
    "</div>"
   ]
  },
  {
   "cell_type": "markdown",
   "metadata": {
    "solution2": "hidden"
   },
   "source": [
    "This is because although we multiplied each of the initial values by 2 (<code>[1, 4, 5, 6]</code> which became <code>[2, 8, 10, 12]</code>) we didn't store the result of this operation anywhere and the initial values stored in <code>v</code> were not updated. This means that index position 2 still contains the value of 5. We could update the values like this: <code>v = v * 2</code>. This will overwrite the initial values with the values multiplied by 2."
   ]
  },
  {
   "cell_type": "markdown",
   "metadata": {},
   "source": [
    "### Matrices"
   ]
  },
  {
   "cell_type": "markdown",
   "metadata": {},
   "source": [
    "We often use matrices to store information for Machine Learning tasks. For example, how training data is organized prior to applying an ML model. Again we can reduce complex problems in higher dimensions into simpler linear problems that are easier to compute and solve using whats called <code>linear approximation</code>. Let's take a look at how we can create a matrix using the <code>numpy</code> library in Python."
   ]
  },
  {
   "cell_type": "markdown",
   "metadata": {},
   "source": [
    "<div class=\"alert alert-success\">\n",
    "<strong>Note:</strong>\n",
    "    <code>Linear approximation</code> essentially involves approximating a general function with a linear (line) function which can be easier to solve (less computationally expensive). Watch the video on this site for more information: <a href=\"https://www.kristakingmath.com/blog/what-is-linear-approximation\" target=\"_blank\">What is linear approximation?</a>.\n",
    "</div>"
   ]
  },
  {
   "cell_type": "code",
   "execution_count": 48,
   "metadata": {},
   "outputs": [],
   "source": [
    "from numpy import matrix"
   ]
  },
  {
   "cell_type": "code",
   "execution_count": 49,
   "metadata": {},
   "outputs": [],
   "source": [
    "M = matrix([[1,2,3],[4,2,4],[5,2,5]])"
   ]
  },
  {
   "cell_type": "code",
   "execution_count": 50,
   "metadata": {},
   "outputs": [
    {
     "name": "stdout",
     "output_type": "stream",
     "text": [
      "[[1 2 3]\n",
      " [4 2 4]\n",
      " [5 2 5]]\n"
     ]
    }
   ],
   "source": [
    "print(M)"
   ]
  },
  {
   "cell_type": "markdown",
   "metadata": {},
   "source": [
    "As we saw before, in math notation we would present this as follows:"
   ]
  },
  {
   "cell_type": "markdown",
   "metadata": {},
   "source": [
    "$$ M = \\begin{bmatrix} 1 & 2 & 3 \\\\[0.3em] 4 & 2 & 4 \\\\[0.3em] 5 & 2 & 5 \\end{bmatrix}   $$"
   ]
  },
  {
   "cell_type": "markdown",
   "metadata": {},
   "source": [
    "We can then refer to specific values using a subscript notation. Where $i$ is the row index and $j$ is the colum index."
   ]
  },
  {
   "cell_type": "markdown",
   "metadata": {},
   "source": [
    "$$ M(_{i,j}) $$"
   ]
  },
  {
   "cell_type": "markdown",
   "metadata": {},
   "source": [
    "$$\n",
    "\\begin{bmatrix} M_{1,1} & M_{1,2} & M_{1,3} \\\\[0.3em] M_{2,1} & M_{2,2} & M_{2,3} \\\\[0.3em] M_{3,1} & M_{3,2} & M_{3,3} \\end{bmatrix}  \n",
    "$$"
   ]
  },
  {
   "cell_type": "markdown",
   "metadata": {},
   "source": [
    "Accessing elements in Python when using <code>numpy matrix</code> is slightly different to how we did this before. Here you can use the <code>item()</code> function instead of using the square brackets for row/column indexing. Here we just count from 0 from left to right to the value we want to access. So in the example above the number 4 is stored in position 3 if we count from left to right, top to bottom e.g:"
   ]
  },
  {
   "cell_type": "code",
   "execution_count": 51,
   "metadata": {},
   "outputs": [
    {
     "name": "stdout",
     "output_type": "stream",
     "text": [
      "4\n"
     ]
    }
   ],
   "source": [
    "print(M.item(3))"
   ]
  },
  {
   "cell_type": "markdown",
   "metadata": {},
   "source": [
    "### Matrix operations"
   ]
  },
  {
   "cell_type": "markdown",
   "metadata": {},
   "source": [
    "There are various operations that can be carried out on matrices. For example if 2 matrices are the same shape (have the same dimensions), they can be added together. To achieve this, we simply add the values in the corresponding positions."
   ]
  },
  {
   "cell_type": "markdown",
   "metadata": {},
   "source": [
    "$$\n",
    "\\begin{bmatrix} 1 & 0 \\\\[0.3em] 2 & 4 \\\\[0.3em] \\end{bmatrix} + \n",
    "\\begin{bmatrix} 3 & 6 \\\\[0.3em] 3 & 4 \\\\[0.3em] \\end{bmatrix} =\n",
    "\\begin{bmatrix} 1 + 3 & 0 + 6 \\\\[0.3em] 2 + 3 & 4 + 4 \\\\[0.3em] \\end{bmatrix} = \n",
    "\\begin{bmatrix} 4 & 6 \\\\[0.3em] 5 & 8 \\\\[0.3em] \\end{bmatrix}\n",
    "$$"
   ]
  },
  {
   "cell_type": "markdown",
   "metadata": {},
   "source": [
    "We can do this in Python easily"
   ]
  },
  {
   "cell_type": "code",
   "execution_count": 52,
   "metadata": {},
   "outputs": [],
   "source": [
    "M1 = matrix([[1,0],[2,4]])\n",
    "M2 = matrix([[3,6],[3,4]])"
   ]
  },
  {
   "cell_type": "code",
   "execution_count": 53,
   "metadata": {},
   "outputs": [
    {
     "name": "stdout",
     "output_type": "stream",
     "text": [
      "Matrix 1:\n",
      "[[1 0]\n",
      " [2 4]]\n",
      "Matrix 2:\n",
      "[[3 6]\n",
      " [3 4]]\n"
     ]
    }
   ],
   "source": [
    "print(\"Matrix 1:\")\n",
    "print(M1)\n",
    "print(\"Matrix 2:\")\n",
    "print(M2)"
   ]
  },
  {
   "cell_type": "code",
   "execution_count": 54,
   "metadata": {},
   "outputs": [
    {
     "name": "stdout",
     "output_type": "stream",
     "text": [
      "[[4 6]\n",
      " [5 8]]\n"
     ]
    }
   ],
   "source": [
    "print(M1 + M2)"
   ]
  },
  {
   "cell_type": "markdown",
   "metadata": {},
   "source": [
    "Unfortunately matrix multiplication works differently. To do this we need to ensure that the number of columns in the first matrix are equal to the number of rows in the second. Then we can multiply and then add the corresponding values."
   ]
  },
  {
   "cell_type": "markdown",
   "metadata": {},
   "source": [
    "$$\n",
    "\\begin{bmatrix} 1 & 0 \\\\[0.3em] 2 & 4 \\\\[0.3em] \\end{bmatrix} \\times\n",
    "\\begin{bmatrix} 3 & 6 \\\\[0.3em] 3 & 4 \\\\[0.3em] \\end{bmatrix} =\n",
    "\\begin{bmatrix} (1 \\times 3) + (0 \\times 3) & (1 \\times 6) + (0 \\times 4) \\\\[0.3em] \n",
    "(2 \\times 3) + (4 \\times 3) & (2 \\times 6) + (4 \\times 4)\n",
    "\\\\[0.3em] \\end{bmatrix} = \n",
    "\\begin{bmatrix} 3 & 6 \\\\[0.3em] 18 & 28 \\\\[0.3em] \\end{bmatrix}\n",
    "$$"
   ]
  },
  {
   "cell_type": "markdown",
   "metadata": {},
   "source": [
    "To do this in Python, we can use the multiplication operator we used earlier. A safer way to do this is to use the <code>dot</code> operator to specifically state that we want to calculate whats known as the <code>dot product</code>. In other languages multiplying directly may not work and you may have to use a specific dot product function/operator. If we don't specify the dot product, we may end up doing what is called <code>element wise</code> multiplication where we just multiply each individual value by the corresponding value without adding them, which would give us $\\bigl(\\begin{smallmatrix}\n",
    "3&0 \\\\ 6&16\\end{smallmatrix} \\bigr)$."
   ]
  },
  {
   "cell_type": "code",
   "execution_count": 55,
   "metadata": {},
   "outputs": [
    {
     "name": "stdout",
     "output_type": "stream",
     "text": [
      "[[ 3  6]\n",
      " [18 28]]\n"
     ]
    }
   ],
   "source": [
    "print(M1 * M2)"
   ]
  },
  {
   "cell_type": "code",
   "execution_count": 56,
   "metadata": {},
   "outputs": [
    {
     "name": "stdout",
     "output_type": "stream",
     "text": [
      "[[ 3  6]\n",
      " [18 28]]\n"
     ]
    }
   ],
   "source": [
    "from numpy import dot\n",
    "print(dot(M1, M2))"
   ]
  },
  {
   "cell_type": "markdown",
   "metadata": {},
   "source": [
    "### Special matrices "
   ]
  },
  {
   "cell_type": "markdown",
   "metadata": {},
   "source": [
    "There are certain matrices that can be useful for various purposes. One example is the <code>inverse</code> of a matrix. This is used as a substitute for division as there is no such concept of dividing by a matrix. Say you wanted to solve a simple equation, such as $5x = 18$ we could divide both sides of the equation by 5. ($\\frac{5x}{5} = x$ and $\\frac{18}{5} = 3.6$) so $x = 3.6$. You can't do this with matrices but you can achieve something similar if you use multiplication. This would be the same as multiplying both sides of the equation by one fifth i.e. $\\frac{1}{5}5x$ and $\\frac{1}{5}18$. The number 1 divided by a number is referred to as the number's <code>reciprocal</code>. For matrices this is written with a minus 1 in superscript after the matrix i.e. $I = M \\times M^{-1}$. To have an inverse, a matrix must be square ($n \\times n$). To determine the inverse of a matrix:"
   ]
  },
  {
   "cell_type": "markdown",
   "metadata": {},
   "source": [
    "$$\n",
    "\\begin{bmatrix} 1 & 3 \\\\[0.3em] 2 & 4 \\\\[0.3em] \\end{bmatrix}^{-1} \n",
    "$$"
   ]
  },
  {
   "cell_type": "markdown",
   "metadata": {},
   "source": [
    "We can divide 1 by the <code>determinant</code>, which is found through the difference of the multiplication of the diagonals. The answer can then be multiplied by each value in the matrix after we swap the diagonal values round and make the remaining numbers negative. This is better illustrated with an example:"
   ]
  },
  {
   "cell_type": "markdown",
   "metadata": {},
   "source": [
    "$$\n",
    "\\begin{bmatrix} 1 & 3 \\\\[0.3em] 2 & 4 \\\\[0.3em] \\end{bmatrix}^{-1} =\n",
    "\\frac{1}{(1 \\times 4) - (3 \\times 2)}\n",
    "\\begin{bmatrix} 4 & -3 \\\\[0.3em] -2 & 1 \\\\[0.3em] \\end{bmatrix}\n",
    "$$"
   ]
  },
  {
   "cell_type": "markdown",
   "metadata": {},
   "source": [
    "We can then multiply the value by each element to get the inverse matrix:"
   ]
  },
  {
   "cell_type": "markdown",
   "metadata": {},
   "source": [
    "$$\n",
    "= -0.5 \\times\n",
    "\\begin{bmatrix} 4 & -3 \\\\[0.3em] -2 & 1 \\\\[0.3em] \\end{bmatrix} =\n",
    "\\begin{bmatrix} -2 & 1.5 \\\\[0.3em] 1 & -0.5 \\\\[0.3em] \\end{bmatrix}\n",
    "$$"
   ]
  },
  {
   "cell_type": "markdown",
   "metadata": {},
   "source": [
    "To do this in Python we can just add a dot and the capital letter I (<code>.I</code>) to a matrix variable to produce the inverse matrix. This is something that would be unlikely to need to do as many libraries in languages like Python are available to solve such equations."
   ]
  },
  {
   "cell_type": "code",
   "execution_count": 57,
   "metadata": {},
   "outputs": [
    {
     "name": "stdout",
     "output_type": "stream",
     "text": [
      "[[-2.   1.5]\n",
      " [ 1.  -0.5]]\n"
     ]
    }
   ],
   "source": [
    "M = matrix([[1,3],[2,4]])\n",
    "print(M.I)"
   ]
  },
  {
   "cell_type": "markdown",
   "metadata": {},
   "source": [
    "Lets take a look at how we can use matrices to solve a series of equations. For example the equations below."
   ]
  },
  {
   "cell_type": "markdown",
   "metadata": {},
   "source": [
    "$$7x + 5y - 3z = 16$$ \n",
    "$$3x - 5y + 2z = -8$$\n",
    "$$5x + 3y - 7z = 0$$"
   ]
  },
  {
   "cell_type": "markdown",
   "metadata": {},
   "source": [
    "We could solve these using matrices. To do this you add the values to a matrix. As there is $7x$ in the first equation, the first element of the matrix contains a 7, then a 5 and then -3 and so on. A single value like $x$ would be represented with a 1 and no value with a 0:"
   ]
  },
  {
   "cell_type": "markdown",
   "metadata": {},
   "source": [
    "$$\n",
    "A = \\begin{bmatrix} 7 & 5 & -3 \\\\ 3 & -5 & 2 \\\\ 5 & 3 & -7 \\\\ \\end{bmatrix}; \n",
    "x = \\begin{bmatrix} x\\\\ y\\\\ z \\end{bmatrix};\n",
    "B = \\begin{bmatrix} 16\\\\ -8\\\\ 0 \\end{bmatrix}\n",
    "$$"
   ]
  },
  {
   "cell_type": "markdown",
   "metadata": {},
   "source": [
    "So to determine the values $x, y, z$ we could use the inverse so $Ax = B$ becomes $x = A^{-1}B$. Instead of this we can automate the process using computational techniques (as shown below). We do this because it can be computationally intensive to compute using the inverse and inverting can also lead to numerical instability. "
   ]
  },
  {
   "cell_type": "code",
   "execution_count": 58,
   "metadata": {},
   "outputs": [
    {
     "name": "stdout",
     "output_type": "stream",
     "text": [
      "[1. 3. 2.]\n"
     ]
    }
   ],
   "source": [
    "from numpy import linalg\n",
    "A = matrix([[7,5,-3], [3,-5,2], [5,3,-7]])\n",
    "B = array([16,-8,0])\n",
    "print(linalg.solve(A, B))"
   ]
  },
  {
   "cell_type": "markdown",
   "metadata": {},
   "source": [
    "Here we use functions again from <code>numpy</code> for linear algebra <code>linalg</code> and it's <code>solve</code> function. This gives an output of 1, 3 and 2 so $x = 1, y = 3, z = 2$. Which we can verify by plugging in the results into the original equations:"
   ]
  },
  {
   "cell_type": "markdown",
   "metadata": {
    "solution2": "hidden",
    "solution2_first": true
   },
   "source": [
    "<div class=\"alert alert-block alert-info\">\n",
    "<b>Task 6:</b>\n",
    "<br> \n",
    "    Try solving the equations by hand using the values of $x$, $y$ and $z$ in the cell above:\n",
    "    $$7x + 5y - 3z = 16$$ \n",
    "$$3x - 5y + 2z = -8$$\n",
    "$$5x + 3y - 7z = 0$$\n",
    "</div>"
   ]
  },
  {
   "cell_type": "markdown",
   "metadata": {
    "solution2": "hidden"
   },
   "source": [
    "Equation 1:\n",
    "$$7(1) + 5(3) - 3(2) =  $$\n",
    "$$(7 + 15) - 6 = $$\n",
    "$$22 - 6 = 16$$\n",
    "Equation 2:\n",
    "$$3(1) - 5(3) + 2(2) = $$\n",
    "$$(3 - 15) + 4 = $$\n",
    "$$ -12 + 4 = -8 $$\n",
    "Equation 3:\n",
    "$$ 5(1) + 3(3) - 7(2) = $$\n",
    "$$ (5 + 9) - 14 = $$\n",
    "$$  14 - 14 = 0 $$"
   ]
  },
  {
   "cell_type": "markdown",
   "metadata": {},
   "source": [
    "Another common operation to carry out on matrices is to <code>transpose</code> them. This refers to creating a new matrix where the columns are changed into rows. Matrices that are transposed are denoted with a superscript letter <code>T</code>. For example $M^T$. To do this in Python we can add a <code>.T</code> to the matrix variable or use the <code>transpose</code> function in <code>numpy</code>."
   ]
  },
  {
   "cell_type": "code",
   "execution_count": 59,
   "metadata": {},
   "outputs": [
    {
     "name": "stdout",
     "output_type": "stream",
     "text": [
      "Matrix before transpose\n",
      "[[1 3]\n",
      " [2 4]]\n",
      "Matrix after transpose\n",
      "[[1 2]\n",
      " [3 4]]\n"
     ]
    }
   ],
   "source": [
    "print(\"Matrix before transpose\")\n",
    "print(M)\n",
    "print(\"Matrix after transpose\")\n",
    "print(M.T)"
   ]
  },
  {
   "cell_type": "markdown",
   "metadata": {},
   "source": [
    "<a href=\"#top\">Back to top</a>\n",
    "\n",
    "-----------\n",
    "\n",
    "\n",
    "\n",
    "<a id=\"appmaclea\"></a>\n",
    "## Application to Machine Learning"
   ]
  },
  {
   "cell_type": "markdown",
   "metadata": {},
   "source": [
    "This should hopefully make some more sense of the representation of data internally for many of the machine learning methods used. If we recall that a standard data frame is split into features <code>X</code> and labels <code>y</code>."
   ]
  },
  {
   "cell_type": "markdown",
   "metadata": {},
   "source": [
    "<img src=\"./Topol/dataset.png\" align=\"left\" />"
   ]
  },
  {
   "cell_type": "markdown",
   "metadata": {},
   "source": [
    "In the example below we can see how how feature data is often stored in a matrix and the labeled data in a vector. This internal representation is used by many ML algorithms to process the data. "
   ]
  },
  {
   "cell_type": "markdown",
   "metadata": {},
   "source": [
    "<img src=\"./Topol/datarep.png\" align=\"center\" width=\"40%\" />"
   ]
  },
  {
   "cell_type": "markdown",
   "metadata": {},
   "source": [
    "<a href=\"#top\">Back to top</a>\n",
    "\n",
    "-----------\n",
    "\n",
    "\n",
    "\n",
    "<a id=\"probthe\"></a>\n",
    "## Probability Theory"
   ]
  },
  {
   "cell_type": "markdown",
   "metadata": {},
   "source": [
    "Many statistical methods are based on probability theory. This essentially means that certain events follow different <code>distributions</code>. For example flipping an unbiased coin multiple times can create a <code>Bernoulli</code> distribution or peoples height which tends to form a normal distribution where very small or tall people make up minorities at either end with most people somewhere in between."
   ]
  },
  {
   "cell_type": "markdown",
   "metadata": {},
   "source": [
    "<img src=\"./Topol/dists.png\" width=\"60%\" align=\"center\" />"
   ]
  },
  {
   "cell_type": "markdown",
   "metadata": {},
   "source": [
    "<strong>Source:</strong> <a href=\"https://medium.com/swlh/understanding-probability-distribution-b5c041f5d564\" target=\"_blank\">Understanding Probability Distribution</a>."
   ]
  },
  {
   "cell_type": "markdown",
   "metadata": {},
   "source": [
    "A great way of seeing this in action is to see a <code>Galton Board</code>. This shows how a <code>Binomial</code> distribution is formed. Watch this short video to see a Galton board (1 minute long): <a href=\"https://www.youtube.com/watch?v=EvHiee7gs9Y\" target=\"_blank\">Galton Board</a>. "
   ]
  },
  {
   "cell_type": "markdown",
   "metadata": {},
   "source": [
    "<div class=\"alert alert-success\">\n",
    "<strong>Note:</strong>\n",
    "If you want to understand more about this and the maths behind there is a longer video (48 minutes) that walks you through the maths and the history of Sir Frances Galton and his Bean Machine. You can view this video here: <a href=\"https://www.youtube.com/watch?v=MnHZSlVI-PI\" target=\"_blank\">The Bean Machine, Sir Francis Galton, and the Central Limit Theorem in action! by Brian Hadley</a>.\n",
    "</div>"
   ]
  },
  {
   "cell_type": "markdown",
   "metadata": {},
   "source": [
    "These distributions can be very useful for statistics because this allows us to make certain assumptions about data based on its distribution. <code>central limit theorem</code> states that in many cases, the sum (sometimes average) of independent random variables tends towards a <code>normal distribution</code>. This is also sometimes called a <code>Gaussian</code> distribution or simply a <code>bell curve</code> due to the shape it forms."
   ]
  },
  {
   "cell_type": "markdown",
   "metadata": {},
   "source": [
    "<img src=\"./Topol/normal.PNG\" width=\"30%\" align=\"center\" />"
   ]
  },
  {
   "cell_type": "markdown",
   "metadata": {},
   "source": [
    "Many statistical tests assume that the distribution of data follows this distribution (e.g. t-tests, analysis of variance ANOVA and linear regression). If this is not the case there are no-parametric equivalents of these tests for non-normally distributed data that usually apply ranking of data points (e.g. Mann-Whitney U tests, Friedman/Kruskal Wallis tests etc.). This is why examination of the underlying data distribution is essential before applying certain statistical tests that are based on assumptions about the underlying data."
   ]
  },
  {
   "cell_type": "markdown",
   "metadata": {},
   "source": [
    "We can simulate this in Python by generating a set of random normally distributed values that could represent some data that was collected in an experiment."
   ]
  },
  {
   "cell_type": "code",
   "execution_count": 3,
   "metadata": {},
   "outputs": [],
   "source": [
    "import numpy as np\n",
    "norm_nums = np.random.normal(1.0, 0.005, 100)"
   ]
  },
  {
   "cell_type": "markdown",
   "metadata": {},
   "source": [
    "We can use a <code>density plot</code> to visualise the distribution of these data. A density plot is essentially a continuous smooth version of a histogram. "
   ]
  },
  {
   "cell_type": "code",
   "execution_count": 6,
   "metadata": {},
   "outputs": [
    {
     "data": {
      "image/png": "[encoded data removed]",
      "text/plain": [
       "<Figure size 432x288 with 1 Axes>"
      ]
     },
     "metadata": {
      "needs_background": "light"
     },
     "output_type": "display_data"
    }
   ],
   "source": [
    "import seaborn as sns\n",
    "sns.distplot(norm_nums, hist = True, kde = True, kde_kws = {'linewidth': 3},  hist_kws={'edgecolor':'black'});"
   ]
  },
  {
   "cell_type": "markdown",
   "metadata": {},
   "source": [
    "<div class=\"alert alert-success\">\n",
    "<strong>Note:</strong>\n",
    "    Density plots can be used in conjunction with other methods such as examining the <code>skew</code> and <code>kurtosis</code> values of data, <code>Q-Q plots</code> and other statistical methods such as <code>Shapiro-Wilk test</code> and <code>Kolmogorov-Smirnov</code>.\n",
    "</div>"
   ]
  },
  {
   "cell_type": "markdown",
   "metadata": {},
   "source": [
    "Many of these statistical tests aim to provide evidence as to whether the difference between the averages (means) of data are likely to be due to random chance or there is something more systematic taking place. One of the most widely used of these metrics reported is the <code>p-value</code>. A p-value is used to decide if there is a <code>statistically significant difference</code> between these means. The default (NULL) hypothesis is that there is NO statistically significant difference between the means. A p-value below a specified cut-off value (0.05 in fields like psychology and 0.01 in medicine) allow us to reject this null hypothesis and conclude that there is a statistically significant difference between these means. We usually control variables and systemically vary the variable of interest in a study.  "
   ]
  },
  {
   "cell_type": "markdown",
   "metadata": {},
   "source": [
    "An example of this could be testing a new painkiller on headache pain. We could give one group of people the standard painkiller (e.g. Paracetamol) and another our brand new experimental painkiller. We could ask each patient in both groups to rate their pain score on a standard continuous pain scale. We could then look for a statistically significant difference between the means of these groups."
   ]
  },
  {
   "cell_type": "markdown",
   "metadata": {},
   "source": [
    "<img src=\"./Topol/pain.jpg\" width=\"50%\" align=\"center\" />"
   ]
  },
  {
   "cell_type": "markdown",
   "metadata": {},
   "source": [
    "<strong>Source:</strong><a href=\"https://www.physio-pedia.com/images/4/47/NRS_pain.jpg\" target=\"_blank\">https://www.physio-pedia.com/images/4/47/NRS_pain.jpg</a>"
   ]
  },
  {
   "cell_type": "markdown",
   "metadata": {},
   "source": [
    "We can create two lists to represent the pain scores given by the two groups asked to point/or mark on the scale where they think their pain is following the intervention."
   ]
  },
  {
   "cell_type": "code",
   "execution_count": 7,
   "metadata": {},
   "outputs": [],
   "source": [
    "group_one = [1, 4.5, 5.5, 6, 8, 2, 1, 8.6, 7.2, 5.1]\n",
    "group_two = [7, 5.5, 6.5, 4, 2, 4, 5, 5.6, 8.2, 10]"
   ]
  },
  {
   "cell_type": "markdown",
   "metadata": {},
   "source": [
    "Next we can import the stats module from the scipy library. We can then run an independent t-test on these groups."
   ]
  },
  {
   "cell_type": "markdown",
   "metadata": {},
   "source": [
    "<div class=\"alert alert-success\">\n",
    "<strong>Note:</strong>\n",
    "There a 3 different types of t-test:\n",
    "<ul>\n",
    "    <li><strong>Independent samples:</strong> Compares the means of two groups</li>\n",
    "    <li><strong>Paired samples:</strong> Compares the means from same group at different points in time</li>\n",
    "    <li><strong>One sample:</strong> Compares the means of single group against another known mean</li>\n",
    "</ul>        \n",
    "</div>"
   ]
  },
  {
   "cell_type": "code",
   "execution_count": 11,
   "metadata": {},
   "outputs": [
    {
     "name": "stdout",
     "output_type": "stream",
     "text": [
      "T-statistic: -0.783247205120718\n",
      "p-value: 0.44366612981092857\n"
     ]
    }
   ],
   "source": [
    "from scipy import stats\n",
    "results = stats.ttest_ind(group_one, group_two)\n",
    "print(\"T-statistic:\", results[0])\n",
    "print(\"p-value:\", results[1])"
   ]
  },
  {
   "cell_type": "markdown",
   "metadata": {},
   "source": [
    "We can view the t-score (higher values indicate a bigger difference between the sample sets) and the p-value."
   ]
  },
  {
   "cell_type": "markdown",
   "metadata": {
    "solution2": "hidden",
    "solution2_first": true
   },
   "source": [
    "<div class=\"alert alert-block alert-info\">\n",
    "<b>Task 7:</b>\n",
    "<br> \n",
    "    Based on the p-value above, would you accept or reject the null hypothesis?\n",
    "</div>"
   ]
  },
  {
   "cell_type": "markdown",
   "metadata": {
    "solution2": "hidden"
   },
   "source": [
    "You would accept the null hypothesis that there is no statistically significant difference between the means of the 2 groups. The p-value was > 0.05. "
   ]
  },
  {
   "cell_type": "markdown",
   "metadata": {},
   "source": [
    "<div class=\"alert alert-success\">\n",
    "<strong>Note:</strong> There is a lot of competition between R and Python in data science with different people saying one is better than the other. Personally I use both and have no preference. However I find some ML tasks easier in Python and I find applying traditional statistical tests easier in R. R tends to provide a richer output for such test. You can see in the image below that it tells us the mean of both groups, 95% confidence intervals, t score, degrees of freedom (df) and the p-value.\n",
    "    <img src=\"./Topol/R.PNG\" width=\"50%\" align=\"center\" />\n",
    "</div>"
   ]
  },
  {
   "cell_type": "markdown",
   "metadata": {},
   "source": [
    "<a href=\"#top\" >Back to top</a>\n",
    "\n",
    "--------\n",
    "\n",
    "\n",
    "\n",
    "<a id=\"cal\"></a>\n",
    "## Calculus"
   ]
  },
  {
   "cell_type": "markdown",
   "metadata": {},
   "source": [
    "Calculus is used in many ML algorithms (e.g. gradient descent and backpropagation used to train deep learning neural networks). Calculus can be used for several purposes, one of which is to determine the average rate of change for a non-linear function.  "
   ]
  },
  {
   "cell_type": "markdown",
   "metadata": {},
   "source": [
    "<img src=\"./Topol/calc1.PNG\" width=\"50%\" align=\"center\" />"
   ]
  },
  {
   "cell_type": "markdown",
   "metadata": {},
   "source": [
    "If these functions were linear (lines) we could use the line's slopes to help. With non-linear functions we can pick points and work out an average change between them e.g. $\\frac{3}{5}$. We could keep moving these points closer together until they converge on a value representing instantaneous change. To aid us with calculus it has the concept of a limit of a function represented in math notation like this: $\\lim\\limits_{x \\to a} f(x) = L$."
   ]
  },
  {
   "cell_type": "markdown",
   "metadata": {},
   "source": [
    "<img src=\"./Topol/calc2.PNG\" width=\"50%\" align=\"center\" />"
   ]
  },
  {
   "cell_type": "markdown",
   "metadata": {},
   "source": [
    "For example $\\lim\\limits_{x \\to 2} 3x^2 - 1 = 11$. This is saying that as values of $x$ approach $2$ the limit of the function is $11$. Limits describe the value approached not the final output of a function."
   ]
  },
  {
   "cell_type": "markdown",
   "metadata": {},
   "source": [
    "This goes back to the concepts discussed in linear algebra at the start of this notebook, only instead of looking at the change in y over the change in x we are looking at the average rate of change $\\frac{\\bigtriangleup y}{\\bigtriangleup x} = \\frac{\\text{change in y}}{\\text{change in x}}$"
   ]
  },
  {
   "cell_type": "markdown",
   "metadata": {},
   "source": [
    "Calculus breaks down complex problems by working out the sum of many smaller values. This is useful when trying to solve problems that rely on computing the area under some graph. If we could break down this area into a series of rectangles, the smaller and smaller values of $dA$ would provide a more accurate approximation of the area. The <code>integral</code> of the function (e.g. $x^2$) represents the area under the graph with respect to a fixed point on the left (e.g. 0) and a variable point on the right. The value of $dx$ then represents the slight increase (difference in area such as the width of the rectangle). So $dA \\approx x^2 dx$ or when rearranged $\\frac{dA}{dx} = x^2$ or whatever the function defining the graph is (e.g. $\\frac{dA}{dx} = f(x)$). This represents the height of the graph at a particular point."
   ]
  },
  {
   "cell_type": "markdown",
   "metadata": {},
   "source": [
    "<img src=\"./Topol/calc0.PNG\" width=\"50%\" align=\"center\" />"
   ]
  },
  {
   "cell_type": "markdown",
   "metadata": {},
   "source": [
    "The opposite (or inverse) of an integral is a <code>derivative</code>. This refers to the ratio of $\\frac{dA}{dx}$ (whatever value it approaches as $dx$ gets smaller)."
   ]
  },
  {
   "cell_type": "markdown",
   "metadata": {},
   "source": [
    "We can use the <code>sympy</code> module in Python to carry out some of these operations."
   ]
  },
  {
   "cell_type": "code",
   "execution_count": 1,
   "metadata": {},
   "outputs": [],
   "source": [
    "import sympy as smp"
   ]
  },
  {
   "cell_type": "markdown",
   "metadata": {},
   "source": [
    "We can define symbols using the <code>sympy</code> module to display in math notation. Here we create an <code>x</code> and <code>y</code> symbol and specify that they represent 'real' numbers."
   ]
  },
  {
   "cell_type": "code",
   "execution_count": 2,
   "metadata": {},
   "outputs": [],
   "source": [
    "x, y = smp.symbols(\"x y\", real=True)"
   ]
  },
  {
   "cell_type": "markdown",
   "metadata": {},
   "source": [
    "If we output <code>x</code> we can see it is rendered as math symbol"
   ]
  },
  {
   "cell_type": "code",
   "execution_count": 3,
   "metadata": {},
   "outputs": [
    {
     "data": {
      "text/latex": [
       "$\\displaystyle x$"
      ],
      "text/plain": [
       "x"
      ]
     },
     "execution_count": 3,
     "metadata": {},
     "output_type": "execute_result"
    }
   ],
   "source": [
    "x"
   ]
  },
  {
   "cell_type": "markdown",
   "metadata": {},
   "source": [
    "This is perhaps more obvious if we square <code>x</code>. You can see it is now output as a superscript."
   ]
  },
  {
   "cell_type": "code",
   "execution_count": 4,
   "metadata": {},
   "outputs": [
    {
     "data": {
      "text/latex": [
       "$\\displaystyle x^{2}$"
      ],
      "text/plain": [
       "x**2"
      ]
     },
     "execution_count": 4,
     "metadata": {},
     "output_type": "execute_result"
    }
   ],
   "source": [
    "x**2"
   ]
  },
  {
   "cell_type": "markdown",
   "metadata": {},
   "source": [
    "This can be very useful if we want to render our code output like math notation. If we wanted to output $y = (x^3 + 2x^2)$, we could write it in Python code and output <code>y</code> giving us the formula in math notation."
   ]
  },
  {
   "cell_type": "code",
   "execution_count": 5,
   "metadata": {},
   "outputs": [],
   "source": [
    "y = (x**3 + 2 * x**2)"
   ]
  },
  {
   "cell_type": "code",
   "execution_count": 6,
   "metadata": {},
   "outputs": [
    {
     "data": {
      "text/latex": [
       "$\\displaystyle x^{3} + 2 x^{2}$"
      ],
      "text/plain": [
       "x**3 + 2*x**2"
      ]
     },
     "execution_count": 6,
     "metadata": {},
     "output_type": "execute_result"
    }
   ],
   "source": [
    "y"
   ]
  },
  {
   "cell_type": "markdown",
   "metadata": {},
   "source": [
    "The <code>sympy</code> library has some calculus functions and classes built in. For example the following cells make use of the differential, integral and integration features in the library. "
   ]
  },
  {
   "cell_type": "code",
   "execution_count": 8,
   "metadata": {},
   "outputs": [
    {
     "data": {
      "text/latex": [
       "$\\displaystyle 3 x^{2} + 4 x$"
      ],
      "text/plain": [
       "3*x**2 + 4*x"
      ]
     },
     "execution_count": 8,
     "metadata": {},
     "output_type": "execute_result"
    }
   ],
   "source": [
    "smp.diff(y)"
   ]
  },
  {
   "cell_type": "code",
   "execution_count": 9,
   "metadata": {},
   "outputs": [],
   "source": [
    "z = smp.Derivative(y,x)"
   ]
  },
  {
   "cell_type": "code",
   "execution_count": 10,
   "metadata": {},
   "outputs": [
    {
     "data": {
      "text/latex": [
       "$\\displaystyle \\frac{d}{d x} \\left(x^{3} + 2 x^{2}\\right)$"
      ],
      "text/plain": [
       "Derivative(x**3 + 2*x**2, x)"
      ]
     },
     "execution_count": 10,
     "metadata": {},
     "output_type": "execute_result"
    }
   ],
   "source": [
    "z"
   ]
  },
  {
   "cell_type": "code",
   "execution_count": 13,
   "metadata": {},
   "outputs": [
    {
     "data": {
      "text/latex": [
       "$\\displaystyle \\int \\left(4 x - 1\\right)\\, dx$"
      ],
      "text/plain": [
       "Integral(4*x - 1, x)"
      ]
     },
     "execution_count": 13,
     "metadata": {},
     "output_type": "execute_result"
    }
   ],
   "source": [
    "smp.Integral(4*x-1**2, x)"
   ]
  },
  {
   "cell_type": "code",
   "execution_count": 14,
   "metadata": {},
   "outputs": [
    {
     "data": {
      "text/latex": [
       "$\\displaystyle 2 x^{2} - x$"
      ],
      "text/plain": [
       "2*x**2 - x"
      ]
     },
     "execution_count": 14,
     "metadata": {},
     "output_type": "execute_result"
    }
   ],
   "source": [
    "smp.integrate(4*x-1**2, x)"
   ]
  },
  {
   "cell_type": "markdown",
   "metadata": {},
   "source": [
    "<a href=\"#top\">Back to top</a>\n",
    "\n",
    "----------------\n",
    "\n",
    "\n",
    "\n",
    "<a id=\"stograddes\"></a>\n",
    "## Stochastic Gradient Descent "
   ]
  },
  {
   "cell_type": "markdown",
   "metadata": {},
   "source": [
    "Cost and loss functions can be used to evaluate the performance of a Machine Learning algorithm. A loss function determines the error for a training example whereas a cost function provides the average of the loss functions for all the training examples. We ideally want to minimize these values as much as possible. The error refers to the difference between actual and predicted outcomes of a model. The stochastic gradient descent (SGD) is one such cost function that we use which is based on some of the principles of calculus. "
   ]
  },
  {
   "cell_type": "markdown",
   "metadata": {},
   "source": [
    "The basic idea is to pick a random point on the graph (represented by the dot in the image below). We then need to figure out in which direction to go to make the output lower. If you can work out the slope of the function you can go left if the slope is positive, or right if the slope is negative. If the size of the steps is proportional to the slope, the steps get smaller when the slope is flattening out to prevent overshooting the minimum. There may be multiple minimums."
   ]
  },
  {
   "cell_type": "markdown",
   "metadata": {},
   "source": [
    "<img src=\"./Topol/sgd1.gif\" width=\"50%\" align=\"center\" />"
   ]
  },
  {
   "cell_type": "markdown",
   "metadata": {},
   "source": [
    "The size of the steps is called the <code>learning rate</code>. A higher learning rate means we can cover more area but are at risk of overshooting the minima. Smaller steps on the other hand will be more accurate but much slower. This can be represented with the following formula where $\\ominus^1$ represents the next position, $\\ominus^0$ the current position. The minus shows the direction. The $\\alpha$ represents the small step and the $\\bigtriangledown J(\\ominus)$ shows the direction of the fastest increase."
   ]
  },
  {
   "cell_type": "markdown",
   "metadata": {},
   "source": [
    "$$\\ominus^1 = \\ominus^0 - \\alpha \\bigtriangledown J(\\ominus)$$"
   ]
  },
  {
   "cell_type": "markdown",
   "metadata": {},
   "source": [
    "<div class=\"alert alert-block alert-info\">\n",
    "<b>Task 8:</b>\n",
    "<br> \n",
    "    1. Visit the <a href=\"https://developers.google.com/machine-learning/crash-course/fitter/graph\" target=\"_blank\">Reducing Loss: Optimizing Learning Rate</a> playground. Experiment with setting the learning rate and click on the <code>step</code> button until you reach the minimal loss.<br>\n",
    "    2. Complete the short exercises on the playground page\n",
    "</div>"
   ]
  },
  {
   "cell_type": "markdown",
   "metadata": {},
   "source": [
    "This has been a brief introduction to some of the mathematical concepts that are used in Machine Learning. There are entire courses devoted to topics like calculus, statistics and discrete mathematics so we don't expect you to necessarily understand everything presented here. Think of this an introduction to some of the key areas involved that you can explore further. You don't need to understand all the maths to start implementing ML models. However to truly understand how they work and thus which situations to use them (or not use them in) will involve gaining a deeper understanding of the underlying maths over time. "
   ]
  },
  {
   "cell_type": "markdown",
   "metadata": {},
   "source": [
    "#### Further Reading\n",
    "\n",
    "<ul>\n",
    "    <li><a href=\"https://machinelearningmastery.com/basics-mathematical-notation-machine-learning/\" target=\"_blank\">Basics of Mathematical Notation for Machine Learning</a></li>\n",
    "    <li><a href=\"https://nthu-datalab.github.io/ml/slides/Notation.pdf?fbclid=IwAR0kYjO13sIR4JvN8VVBrgXBH8e9wlE1TGBv_YC6wuAzyCFved5TC4gCqc8\" target=\"_blank\">Machine Learning Notation</a></li>\n",
    "    <li><a href=\"https://ml-cheatsheet.readthedocs.io/en/latest/math_notation.html\" target=\"_blank\">ML Notation</a></li>\n",
    "    <li><a href=\"https://www.khanacademy.org/math/linear-algebra\" target=\"_blank\">Intro to Linear algebra course</a></li>\n",
    "</ul>\n",
    "\n",
    "------\n",
    "\n",
    "##### About this Notebook\n",
    "<br>\n",
    "<i>Notebook created by <strong>Dr. Alan Davies</strong> with, <strong>Frances Hooley</strong> and <strong>Dr. Jon Parkinson</strong>\n",
    "\n",
    "Publish date: November 2021<br>\n",
    "Review date: November 2022</i>"
   ]
  },
  {
   "cell_type": "markdown",
   "metadata": {},
   "source": [
    "Excerpts for this notebook were taken from: <a href=\"https://link.springer.com/book/10.1007%2F978-3-030-47499-7\" target=\"_blank\">Davies, A and Mueller, J (2020) Developing Medical Apps and mHealth Interventions: A Guide for Researchers, Physicians and Informaticians. Switzerland: Springer</a>."
   ]
  },
  {
   "cell_type": "markdown",
   "metadata": {},
   "source": [
    "Please give some feedback using the button below:"
   ]
  },
  {
   "cell_type": "markdown",
   "metadata": {},
   "source": [
    "<a class=\"typeform-share button\" href=\"https://hub11.typeform.com/to/YuLgVFPb\" data-mode=\"popup\" style=\"display:inline-block;text-decoration:none;background-color:#3A7685;color:white;cursor:pointer;font-family:Helvetica,Arial,sans-serif;font-size:18px;line-height:45px;text-align:center;margin:0;height:45px;padding:0px 30px;border-radius:22px;max-width:100%;white-space:nowrap;overflow:hidden;text-overflow:ellipsis;font-weight:bold;-webkit-font-smoothing:antialiased;-moz-osx-font-smoothing:grayscale;\" target=\"_blank\">Rate this notebook </a> <script> (function() { var qs,js,q,s,d=document, gi=d.getElementById, ce=d.createElement, gt=d.getElementsByTagName, id=\"typef_orm_share\", b=\"https://embed.typeform.com/\"; if(!gi.call(d,id)){ js=ce.call(d,\"script\"); js.id=id; js.src=b+\"embed.js\"; q=gt.call(d,\"script\")[0]; q.parentNode.insertBefore(js,q) } })() </script>"
   ]
  },
  {
   "cell_type": "markdown",
   "metadata": {},
   "source": [
    "## Notes:"
   ]
  },
  {
   "cell_type": "code",
   "execution_count": null,
   "metadata": {},
   "outputs": [],
   "source": []
  }
 ],
 "metadata": {
  "hide_input": false,
  "kernelspec": {
   "display_name": "Python 3",
   "language": "python",
   "name": "python3"
  },
  "language_info": {
   "codemirror_mode": {
    "name": "ipython",
    "version": 3
   },
   "file_extension": ".py",
   "mimetype": "text/x-python",
   "name": "python",
   "nbconvert_exporter": "python",
   "pygments_lexer": "ipython3",
   "version": "3.7.3"
  }
 },
 "nbformat": 4,
 "nbformat_minor": 4
}
